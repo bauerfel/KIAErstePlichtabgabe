{
 "cells": [
  {
   "cell_type": "markdown",
   "metadata": {},
   "source": [
    "# The link to your application:\n",
    "Please provide the link to your application.\n",
    "\n",
    "Application: https://leafy-florentine-43e752.netlify.app/appartment\n",
    "\n",
    "\n",
    "Backend: https://reiflja2.pythonanywhere.com\n",
    "<br>\n",
    "Backend Example: https://reiflja2.pythonanywhere.com/api/prediction/apartment?bfs_number=261&area=50&rooms=2"
   ]
  },
  {
   "cell_type": "markdown",
   "metadata": {},
   "source": [
    "# Iterative Process:\n",
    "You should employ at least two iterations of model training/selection, incorporating additional data and utilizing different features, among other modifications. For each iteration, articulate the objectives and the alterations made. Describe the following for each iteration:\n",
    "\n",
    "### Data Preprocessing:\n",
    "Bullet-point list detailing all data preprocessing steps you used\n",
    "### Models:\n",
    "Specify at least two models used, along with their respective hyperparameters (e.g., Linear Regression, Random Forest, etc.).\n",
    "### Performance Metrics:\n",
    "Provide the training/validation/test scores of the models used."
   ]
  }
 ],
 "metadata": {
  "kernelspec": {
   "display_name": "Python 3 (ipykernel)",
   "language": "python",
   "name": "python3"
  },
  "language_info": {
   "codemirror_mode": {
    "name": "ipython",
    "version": 3
   },
   "file_extension": ".py",
   "mimetype": "text/x-python",
   "name": "python",
   "nbconvert_exporter": "python",
   "pygments_lexer": "ipython3",
   "version": "3.9.13"
  }
 },
 "nbformat": 4,
 "nbformat_minor": 2
}
