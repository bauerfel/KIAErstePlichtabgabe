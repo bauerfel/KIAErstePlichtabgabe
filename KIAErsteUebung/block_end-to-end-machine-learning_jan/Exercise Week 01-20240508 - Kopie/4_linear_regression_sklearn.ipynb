{
 "cells": [
  {
   "attachments": {},
   "cell_type": "markdown",
   "id": "1e84aff8",
   "metadata": {},
   "source": [
    "# Linear regression with sklearn (solution)"
   ]
  },
  {
   "cell_type": "markdown",
   "id": "d9ca506b",
   "metadata": {},
   "source": [
    "## Libraries and settings"
   ]
  },
  {
   "cell_type": "code",
   "execution_count": 29,
   "id": "3cc498a3",
   "metadata": {},
   "outputs": [
    {
     "name": "stdout",
     "output_type": "stream",
     "text": [
      "c:\\Users\\jan\\Documents\\FS24\\KIA\\block_end-to-end-machine-learning_jan\\Exercise Week 01-20240508\n"
     ]
    }
   ],
   "source": [
    "# Libraries\n",
    "import os\n",
    "import numpy as np\n",
    "import pandas as pd\n",
    "import statsmodels.api as sm\n",
    "import matplotlib.pyplot as plt\n",
    "from sklearn.linear_model import LinearRegression\n",
    "from sklearn.model_selection import train_test_split\n",
    "from sklearn.metrics import mean_squared_error\n",
    "\n",
    "# Ignore warnings\n",
    "import warnings\n",
    "warnings.filterwarnings('ignore')\n",
    "\n",
    "# Show current working directory\n",
    "print(os.getcwd())"
   ]
  },
  {
   "cell_type": "markdown",
   "id": "514d3419",
   "metadata": {},
   "source": [
    "## Import the apartment data"
   ]
  },
  {
   "cell_type": "code",
   "execution_count": 30,
   "id": "fc8846ed",
   "metadata": {
    "scrolled": true
   },
   "outputs": [
    {
     "name": "stdout",
     "output_type": "stream",
     "text": [
      "(732, 12)\n"
     ]
    },
    {
     "data": {
      "text/html": [
       "<div>\n",
       "<style scoped>\n",
       "    .dataframe tbody tr th:only-of-type {\n",
       "        vertical-align: middle;\n",
       "    }\n",
       "\n",
       "    .dataframe tbody tr th {\n",
       "        vertical-align: top;\n",
       "    }\n",
       "\n",
       "    .dataframe thead th {\n",
       "        text-align: right;\n",
       "    }\n",
       "</style>\n",
       "<table border=\"1\" class=\"dataframe\">\n",
       "  <thead>\n",
       "    <tr style=\"text-align: right;\">\n",
       "      <th></th>\n",
       "      <th>rooms</th>\n",
       "      <th>area</th>\n",
       "      <th>luxurious</th>\n",
       "      <th>price</th>\n",
       "      <th>price_per_m2</th>\n",
       "      <th>bfs_number</th>\n",
       "      <th>bfs_name</th>\n",
       "      <th>pop</th>\n",
       "      <th>pop_dens</th>\n",
       "      <th>frg_pct</th>\n",
       "      <th>emp</th>\n",
       "      <th>tax_income</th>\n",
       "    </tr>\n",
       "  </thead>\n",
       "  <tbody>\n",
       "    <tr>\n",
       "      <th>0</th>\n",
       "      <td>3.5</td>\n",
       "      <td>122</td>\n",
       "      <td>0</td>\n",
       "      <td>3180</td>\n",
       "      <td>26.07</td>\n",
       "      <td>112</td>\n",
       "      <td>Bubikon</td>\n",
       "      <td>7344</td>\n",
       "      <td>632.558140</td>\n",
       "      <td>11.410675</td>\n",
       "      <td>3617.0</td>\n",
       "      <td>82162</td>\n",
       "    </tr>\n",
       "    <tr>\n",
       "      <th>1</th>\n",
       "      <td>4.0</td>\n",
       "      <td>87</td>\n",
       "      <td>0</td>\n",
       "      <td>1690</td>\n",
       "      <td>19.43</td>\n",
       "      <td>112</td>\n",
       "      <td>Bubikon</td>\n",
       "      <td>7344</td>\n",
       "      <td>632.558140</td>\n",
       "      <td>11.410675</td>\n",
       "      <td>3617.0</td>\n",
       "      <td>82162</td>\n",
       "    </tr>\n",
       "    <tr>\n",
       "      <th>2</th>\n",
       "      <td>2.5</td>\n",
       "      <td>78</td>\n",
       "      <td>0</td>\n",
       "      <td>3760</td>\n",
       "      <td>48.21</td>\n",
       "      <td>261</td>\n",
       "      <td>Zürich</td>\n",
       "      <td>420217</td>\n",
       "      <td>4778.994655</td>\n",
       "      <td>32.458468</td>\n",
       "      <td>491193.0</td>\n",
       "      <td>85446</td>\n",
       "    </tr>\n",
       "    <tr>\n",
       "      <th>4</th>\n",
       "      <td>2.5</td>\n",
       "      <td>59</td>\n",
       "      <td>0</td>\n",
       "      <td>2920</td>\n",
       "      <td>49.49</td>\n",
       "      <td>261</td>\n",
       "      <td>Zürich</td>\n",
       "      <td>420217</td>\n",
       "      <td>4778.994655</td>\n",
       "      <td>32.458468</td>\n",
       "      <td>491193.0</td>\n",
       "      <td>85446</td>\n",
       "    </tr>\n",
       "    <tr>\n",
       "      <th>5</th>\n",
       "      <td>3.0</td>\n",
       "      <td>75</td>\n",
       "      <td>0</td>\n",
       "      <td>3003</td>\n",
       "      <td>40.04</td>\n",
       "      <td>261</td>\n",
       "      <td>Zürich</td>\n",
       "      <td>420217</td>\n",
       "      <td>4778.994655</td>\n",
       "      <td>32.458468</td>\n",
       "      <td>491193.0</td>\n",
       "      <td>85446</td>\n",
       "    </tr>\n",
       "  </tbody>\n",
       "</table>\n",
       "</div>"
      ],
      "text/plain": [
       "   rooms  area  luxurious  price  price_per_m2  bfs_number bfs_name     pop  \\\n",
       "0    3.5   122          0   3180         26.07         112  Bubikon    7344   \n",
       "1    4.0    87          0   1690         19.43         112  Bubikon    7344   \n",
       "2    2.5    78          0   3760         48.21         261   Zürich  420217   \n",
       "4    2.5    59          0   2920         49.49         261   Zürich  420217   \n",
       "5    3.0    75          0   3003         40.04         261   Zürich  420217   \n",
       "\n",
       "      pop_dens    frg_pct       emp  tax_income  \n",
       "0   632.558140  11.410675    3617.0       82162  \n",
       "1   632.558140  11.410675    3617.0       82162  \n",
       "2  4778.994655  32.458468  491193.0       85446  \n",
       "4  4778.994655  32.458468  491193.0       85446  \n",
       "5  4778.994655  32.458468  491193.0       85446  "
      ]
     },
     "execution_count": 30,
     "metadata": {},
     "output_type": "execute_result"
    }
   ],
   "source": [
    "# Define columns for import\n",
    "columns = [ 'rooms',\n",
    "            'area',\n",
    "            'luxurious',\n",
    "            'price',\n",
    "            'price_per_m2',\n",
    "            'bfs_number',\n",
    "            'bfs_name',\n",
    "            'pop',\n",
    "            'pop_dens',\n",
    "            'frg_pct',\n",
    "            'emp',\n",
    "            'tax_income']\n",
    "\n",
    "# Read and select variables\n",
    "df_orig = pd.read_csv(\"apartments_data_enriched.csv\", sep=\",\", encoding='utf-8')[columns]\n",
    "\n",
    "# Remove missing values\n",
    "df = df_orig.dropna()\n",
    "df.head(5)\n",
    "\n",
    "# Remove duplicates\n",
    "df = df.drop_duplicates()\n",
    "\n",
    "# Remove some 'extreme' values\n",
    "df = df.loc[(df['price'] >= 1000) & \n",
    "            (df['price'] <= 5000)]\n",
    "\n",
    "print(df.shape)\n",
    "df.head(5)"
   ]
  },
  {
   "attachments": {},
   "cell_type": "markdown",
   "id": "e43dabac",
   "metadata": {},
   "source": [
    "## Linear Regression with sklearn\n",
    "For details see: https://scikit-learn.org/stable/modules/generated/sklearn.linear_model.LinearRegression.html"
   ]
  },
  {
   "attachments": {},
   "cell_type": "markdown",
   "id": "f2ba09cd",
   "metadata": {},
   "source": [
    "### Create train and test samples (train = 80%, test = 20% of the data) with a single \n",
    "TODO, train a Linear Regression model using sklearn and calculate the mean square error of the test data."
   ]
  },
  {
   "cell_type": "code",
   "execution_count": 31,
   "id": "ebba6b44",
   "metadata": {},
   "outputs": [
    {
     "name": "stdout",
     "output_type": "stream",
     "text": [
      "X_train:\n",
      "     area\n",
      "712    75\n",
      "266    64\n",
      "355    78\n",
      "276    70\n",
      "459    76 \n",
      "\n",
      "y_train:\n",
      "712    1790\n",
      "266    1320\n",
      "355    1760\n",
      "276    1595\n",
      "459    1495\n",
      "Name: price, dtype: int64\n"
     ]
    }
   ],
   "source": [
    "# Create train and test samples\n",
    "X_train, X_test, y_train, y_test = train_test_split(df[['area']], \n",
    "                                                    df['price'], \n",
    "                                                    test_size=0.20, \n",
    "                                                    random_state=42)\n",
    "# Show X_train\n",
    "print('X_train:')\n",
    "print(X_train.head(), '\\n')\n",
    "\n",
    "# Show y_train\n",
    "print('y_train:')\n",
    "print(y_train.head())"
   ]
  },
  {
   "cell_type": "code",
   "execution_count": 32,
   "id": "5d80392a",
   "metadata": {},
   "outputs": [
    {
     "name": "stdout",
     "output_type": "stream",
     "text": [
      "\n",
      "train mean_squared_error 358757.69169991656\n",
      "train root_mean_squared_error 598.9638484081628\n",
      "\n",
      "test mean_squared_error  421158.3613064492\n",
      "test root_mean_squared_error  648.9671496358264\n"
     ]
    }
   ],
   "source": [
    "# TODO 1 \n",
    "# use linear regression to fit (train) and then predict the results. \n",
    "# The function mean_squared_error(y_test, y_predicted) can be used to calculate the mean squared error\n",
    "\n",
    "# calc the residuals and save the values in the variable \"y_residuals\"\n",
    "from sklearn.linear_model import LinearRegression\n",
    "from sklearn.metrics import mean_squared_error\n",
    "\n",
    "lin_reg = LinearRegression()\n",
    "lin_reg.fit(X_train, y_train)\n",
    "\n",
    "y_train_predict = lin_reg.predict(X_train)\n",
    "\n",
    "y_predict = lin_reg.predict(X_test)\n",
    "\n",
    "y_residuals = y_predict - y_test\n",
    "\n",
    "print('')\n",
    "\n",
    "print('train mean_squared_error {}'.format(mean_squared_error(y_train, y_train_predict)))\n",
    "print('train root_mean_squared_error {}'.format(np.sqrt(mean_squared_error(y_train, y_train_predict))))\n",
    "\n",
    "print('')\n",
    "\n",
    "print(\"test mean_squared_error \", mean_squared_error(y_test, y_predict))\n",
    "print(\"test root_mean_squared_error \", np.sqrt(mean_squared_error(y_test, y_predict)))\n",
    "\n",
    "# train mean_squared_error 368982.20149887213\n",
    "# train root_mean_squared_error 607.439051674217\n",
    "\n",
    "# test mean_squared_error  378457.6486090749\n",
    "# test root_mean_squared_error  615.1891161334659"
   ]
  },
  {
   "cell_type": "code",
   "execution_count": 33,
   "id": "f370d276",
   "metadata": {},
   "outputs": [
    {
     "data": {
      "image/png": "[encoded data removed]",
      "text/plain": [
       "<Figure size 800x400 with 1 Axes>"
      ]
     },
     "metadata": {},
     "output_type": "display_data"
    }
   ],
   "source": [
    "# y_hat are the predicted results.\n",
    "\n",
    "# Plot histogram of residuals\n",
    "fig = plt.figure( figsize=(8,4))\n",
    "n, bins, patches = plt.hist(x=y_residuals, \n",
    "                            bins=20, \n",
    "                            color='blue',\n",
    "                            alpha=0.5\n",
    "                   )\n",
    "\n",
    "# Set labels\n",
    "plt.xlabel('residuals', fontsize=10, labelpad=10)\n",
    "plt.ylabel('frequency', fontsize=10, labelpad=10)\n",
    "plt.title('Histogram of model residuals', fontsize=12, pad=10)\n",
    "\n",
    "plt.show()"
   ]
  },
  {
   "cell_type": "code",
   "execution_count": 34,
   "id": "8d798364",
   "metadata": {},
   "outputs": [
    {
     "data": {
      "image/png": "[encoded data removed]",
      "text/plain": [
       "<Figure size 600x400 with 1 Axes>"
      ]
     },
     "metadata": {},
     "output_type": "display_data"
    }
   ],
   "source": [
    "# Scatterplot with regression line\n",
    "plt.figure(figsize=(6,4))\n",
    "plt.scatter(X_train, y_train, s=10, color='green')\n",
    "plt.plot(X_train, y_train_predict, color=\"blue\", linewidth=3)\n",
    "plt.title('Simple Linear Regression')\n",
    "plt.xlabel('area (m2)')\n",
    "plt.ylabel('price (CHF)')\n",
    "\n",
    "plt.show()"
   ]
  },
  {
   "attachments": {},
   "cell_type": "markdown",
   "id": "f1b94b20",
   "metadata": {},
   "source": [
    "### Create train and test samples (train = 80%, test = 20% of the data) with multiple values \n",
    "TODO, train a Linear Regression model using sklearn and calculate the mean square error of the test data."
   ]
  },
  {
   "cell_type": "code",
   "execution_count": 35,
   "id": "26c6c61e",
   "metadata": {},
   "outputs": [
    {
     "name": "stdout",
     "output_type": "stream",
     "text": [
      "X_train:\n",
      "     area     pop_dens  tax_income\n",
      "712    75   451.920694       79356\n",
      "266    64  1662.597326       70966\n",
      "355    78  1221.272366       66676\n",
      "276    70  1662.597326       70966\n",
      "459    76   684.794087       80449 \n",
      "\n",
      "y_train:\n",
      "712    1790\n",
      "266    1320\n",
      "355    1760\n",
      "276    1595\n",
      "459    1495\n",
      "Name: price, dtype: int64\n"
     ]
    }
   ],
   "source": [
    "# Create train and test samples (we name it X2_ and y_2 because we already used X_ and y_ above)\n",
    "X_train, X_test, y_train, y_test = train_test_split(df[['area',\n",
    "                                                        'pop_dens', \n",
    "                                                        'tax_income']], \n",
    "                                                        df['price'], \n",
    "                                                        test_size=0.20, \n",
    "                                                        random_state=42)\n",
    "\n",
    "# Show X_train\n",
    "print('X_train:')\n",
    "print(X_train.head(), '\\n')\n",
    "\n",
    "# Show y_train\n",
    "print('y_train:')\n",
    "print(y_train.head())"
   ]
  },
  {
   "cell_type": "code",
   "execution_count": 36,
   "id": "3956d948",
   "metadata": {},
   "outputs": [
    {
     "name": "stdout",
     "output_type": "stream",
     "text": [
      "train mean_squared_error 214364.68329001506\n",
      "train root_mean_squared_error 462.9953383026821\n",
      "\n",
      "test mean_squared_error  252143.99232557917\n",
      "test root_mean_squared_error  502.1394152280611\n"
     ]
    }
   ],
   "source": [
    "# TODO 2 \n",
    "# use linear regression to fit (train) and then predict the results.\n",
    "# This time use the train/test values from the cell above, which has multiple variables as X\n",
    "# The function mean_squared_error(y_test, y_predicted) can be used to calculate the mean squared error\n",
    "# calc the residuals and save the values in the variable \"y_residuals\"\n",
    "lin_reg = LinearRegression()\n",
    "lin_reg.fit(X_train, y_train)\n",
    "\n",
    "y_train_predict = lin_reg.predict(X_train)\n",
    "\n",
    "y_predict = lin_reg.predict(X_test)\n",
    "\n",
    "y_residuals = y_predict - y_test\n",
    "\n",
    "print('train mean_squared_error {}'.format(mean_squared_error(y_train, y_train_predict)))\n",
    "print('train root_mean_squared_error {}'.format(np.sqrt(mean_squared_error(y_train, y_train_predict))))\n",
    "\n",
    "print('')\n",
    "\n",
    "print(\"test mean_squared_error \", mean_squared_error(y_test, y_predict))\n",
    "print(\"test root_mean_squared_error \", np.sqrt(mean_squared_error(y_test, y_predict)))"
   ]
  },
  {
   "attachments": {},
   "cell_type": "markdown",
   "id": "ce5e70d6",
   "metadata": {},
   "source": [
    "### Plot histogram of residuals"
   ]
  },
  {
   "cell_type": "code",
   "execution_count": 37,
   "id": "2b47aacf",
   "metadata": {},
   "outputs": [
    {
     "data": {
      "image/png": "[encoded data removed]",
      "text/plain": [
       "<Figure size 800x400 with 1 Axes>"
      ]
     },
     "metadata": {},
     "output_type": "display_data"
    }
   ],
   "source": [
    "# Plot histogram of residuals\n",
    "fig = plt.figure( figsize=(8,4))\n",
    "n, bins, patches = plt.hist(x=y_residuals, \n",
    "                            bins=20, \n",
    "                            color='blue',\n",
    "                            alpha=0.5\n",
    "                   )\n",
    "\n",
    "# Set labels\n",
    "plt.xlabel('residuals', fontsize=10, labelpad=10)\n",
    "plt.ylabel('frequency', fontsize=10, labelpad=10)\n",
    "plt.title('Histogram of model residuals', fontsize=12, pad=10)\n",
    "\n",
    "plt.show()"
   ]
  },
  {
   "cell_type": "code",
   "execution_count": 38,
   "id": "ecb11ef3",
   "metadata": {},
   "outputs": [],
   "source": [
    "import pickle\n",
    "\n",
    "# save model to file\n",
    "model_filename = \"linear_regression.pkl\"\n",
    "with open(model_filename, mode=\"bw\") as f:\n",
    "    pickle.dump(lin_reg, file=f)"
   ]
  }
 ],
 "metadata": {
  "kernelspec": {
   "display_name": "base",
   "language": "python",
   "name": "python3"
  },
  "language_info": {
   "codemirror_mode": {
    "name": "ipython",
    "version": 3
   },
   "file_extension": ".py",
   "mimetype": "text/x-python",
   "name": "python",
   "nbconvert_exporter": "python",
   "pygments_lexer": "ipython3",
   "version": "3.9.13"
  }
 },
 "nbformat": 4,
 "nbformat_minor": 5
}
