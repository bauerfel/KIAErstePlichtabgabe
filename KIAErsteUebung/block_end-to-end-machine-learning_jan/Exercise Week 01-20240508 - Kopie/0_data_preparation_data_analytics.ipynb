{
 "cells": [
  {
   "cell_type": "markdown",
   "id": "39a39bc0",
   "metadata": {},
   "source": [
    "# Data Preparation Data Analytics\n",
    "\n",
    "The goal of this notebook is to prepare the housing data from data analytics and add the bsf_number (Bundesamt für Statistik number) and save the csv as a new file.\n",
    "\n",
    "The goal is to have the following columns: \n",
    "Index(['bfs_number', 'bfs_name', 'lat', 'lon', 'rooms', 'area', 'price', 'postalcode',\n",
    "       'address', 'town'],\n",
    "      dtype='object')"
   ]
  },
  {
   "cell_type": "code",
   "execution_count": 1,
   "id": "e4d11ff4",
   "metadata": {},
   "outputs": [],
   "source": [
    "# Libraries\n",
    "import os\n",
    "import re\n",
    "import fnmatch\n",
    "import datetime\n",
    "import numpy as np\n",
    "import pandas as pd\n",
    "\n",
    "# Ignore warnings\n",
    "import warnings\n",
    "warnings.filterwarnings(\"ignore\")"
   ]
  },
  {
   "cell_type": "code",
   "execution_count": 2,
   "id": "4629e775",
   "metadata": {},
   "outputs": [
    {
     "data": {
      "text/plain": [
       "(1008, 7)"
      ]
     },
     "execution_count": 2,
     "metadata": {},
     "output_type": "execute_result"
    }
   ],
   "source": [
    "# Read the data to a pandas data frame\n",
    "df = pd.read_csv('apartments_data_zurich.csv', sep=',', encoding='utf-8')\n",
    "\n",
    "# Get number of rows and columns\n",
    "df.shape"
   ]
  },
  {
   "cell_type": "code",
   "execution_count": 3,
   "id": "59b7c4a4",
   "metadata": {},
   "outputs": [
    {
     "data": {
      "text/html": [
       "<div>\n",
       "<style scoped>\n",
       "    .dataframe tbody tr th:only-of-type {\n",
       "        vertical-align: middle;\n",
       "    }\n",
       "\n",
       "    .dataframe tbody tr th {\n",
       "        vertical-align: top;\n",
       "    }\n",
       "\n",
       "    .dataframe thead th {\n",
       "        text-align: right;\n",
       "    }\n",
       "</style>\n",
       "<table border=\"1\" class=\"dataframe\">\n",
       "  <thead>\n",
       "    <tr style=\"text-align: right;\">\n",
       "      <th></th>\n",
       "      <th>web-scraper-order</th>\n",
       "      <th>web-scraper-start-url</th>\n",
       "      <th>rooms_area_price_raw</th>\n",
       "      <th>address_raw</th>\n",
       "      <th>price_raw</th>\n",
       "      <th>description_raw</th>\n",
       "      <th>text_raw</th>\n",
       "    </tr>\n",
       "  </thead>\n",
       "  <tbody>\n",
       "    <tr>\n",
       "      <th>0</th>\n",
       "      <td>1662023695-433</td>\n",
       "      <td>https://www.immoscout24.ch/de/wohnung/mieten/k...</td>\n",
       "      <td>3,5 Zimmer, 122 m², CHF 3180.—</td>\n",
       "      <td>Sunnenbergstrasse 15, 8633 Wolfhausen, ZH</td>\n",
       "      <td>CHF 3180.—</td>\n",
       "      <td>«Grosse Galerie, Terrasse mit Pergola, Berg- u...</td>\n",
       "      <td>3,5 Zimmer, 122 m², CHF 3180.—Sunnenbergstrass...</td>\n",
       "    </tr>\n",
       "    <tr>\n",
       "      <th>1</th>\n",
       "      <td>1662023745-820</td>\n",
       "      <td>https://www.immoscout24.ch/de/wohnung/mieten/k...</td>\n",
       "      <td>2,5 Zimmer, 78 m², CHF 3760.—</td>\n",
       "      <td>Lavaterstr. 63, 8002 Zürich, ZH</td>\n",
       "      <td>CHF 3760.—</td>\n",
       "      <td>«Wunderschöne Wohnung im Enge-Quartier»</td>\n",
       "      <td>2,5 Zimmer, 78 m², CHF 3760.—Lavaterstr. 63, 8...</td>\n",
       "    </tr>\n",
       "    <tr>\n",
       "      <th>2</th>\n",
       "      <td>1662023742-807</td>\n",
       "      <td>https://www.immoscout24.ch/de/wohnung/mieten/k...</td>\n",
       "      <td>5,5 Zimmer, 115 m², CHF 2860.—</td>\n",
       "      <td>Langfurrenstrasse 5c, 8623 Wetzikon ZH, ZH</td>\n",
       "      <td>CHF 2860.—</td>\n",
       "      <td>«Wohnmomente zum Festhalten»</td>\n",
       "      <td>5,5 Zimmer, 115 m², CHF 2860.—Langfurrenstrass...</td>\n",
       "    </tr>\n",
       "    <tr>\n",
       "      <th>3</th>\n",
       "      <td>1662023804-1290</td>\n",
       "      <td>https://www.immoscout24.ch/de/wohnung/mieten/k...</td>\n",
       "      <td>3,5 Zimmer, 74 m², CHF 2165.—</td>\n",
       "      <td>Sandbuckweg 5A, 8157 Dielsdorf, ZH</td>\n",
       "      <td>CHF 2165.—</td>\n",
       "      <td>«3,5 pièces, 74 m²»</td>\n",
       "      <td>top3,5 Zimmer, 74 m², CHF 2165.—Sandbuckweg 5A...</td>\n",
       "    </tr>\n",
       "    <tr>\n",
       "      <th>4</th>\n",
       "      <td>1662023739-771</td>\n",
       "      <td>https://www.immoscout24.ch/de/wohnung/mieten/k...</td>\n",
       "      <td>5,5 Zimmer, 195 m², CHF 6900.—</td>\n",
       "      <td>Parkring 59, 8002 Zürich, ZH</td>\n",
       "      <td>CHF 6900.—</td>\n",
       "      <td>«Wohnanlage Im Parkring - Exklusive Wohnung zu...</td>\n",
       "      <td>5,5 Zimmer, 195 m², CHF 6900.—Parkring 59, 800...</td>\n",
       "    </tr>\n",
       "  </tbody>\n",
       "</table>\n",
       "</div>"
      ],
      "text/plain": [
       "  web-scraper-order                              web-scraper-start-url  \\\n",
       "0    1662023695-433  https://www.immoscout24.ch/de/wohnung/mieten/k...   \n",
       "1    1662023745-820  https://www.immoscout24.ch/de/wohnung/mieten/k...   \n",
       "2    1662023742-807  https://www.immoscout24.ch/de/wohnung/mieten/k...   \n",
       "3   1662023804-1290  https://www.immoscout24.ch/de/wohnung/mieten/k...   \n",
       "4    1662023739-771  https://www.immoscout24.ch/de/wohnung/mieten/k...   \n",
       "\n",
       "             rooms_area_price_raw                                 address_raw  \\\n",
       "0  3,5 Zimmer, 122 m², CHF 3180.—   Sunnenbergstrasse 15, 8633 Wolfhausen, ZH   \n",
       "1   2,5 Zimmer, 78 m², CHF 3760.—             Lavaterstr. 63, 8002 Zürich, ZH   \n",
       "2  5,5 Zimmer, 115 m², CHF 2860.—  Langfurrenstrasse 5c, 8623 Wetzikon ZH, ZH   \n",
       "3   3,5 Zimmer, 74 m², CHF 2165.—          Sandbuckweg 5A, 8157 Dielsdorf, ZH   \n",
       "4  5,5 Zimmer, 195 m², CHF 6900.—                Parkring 59, 8002 Zürich, ZH   \n",
       "\n",
       "    price_raw                                    description_raw  \\\n",
       "0  CHF 3180.—  «Grosse Galerie, Terrasse mit Pergola, Berg- u...   \n",
       "1  CHF 3760.—            «Wunderschöne Wohnung im Enge-Quartier»   \n",
       "2  CHF 2860.—                       «Wohnmomente zum Festhalten»   \n",
       "3  CHF 2165.—                                «3,5 pièces, 74 m²»   \n",
       "4  CHF 6900.—  «Wohnanlage Im Parkring - Exklusive Wohnung zu...   \n",
       "\n",
       "                                            text_raw  \n",
       "0  3,5 Zimmer, 122 m², CHF 3180.—Sunnenbergstrass...  \n",
       "1  2,5 Zimmer, 78 m², CHF 3760.—Lavaterstr. 63, 8...  \n",
       "2  5,5 Zimmer, 115 m², CHF 2860.—Langfurrenstrass...  \n",
       "3  top3,5 Zimmer, 74 m², CHF 2165.—Sandbuckweg 5A...  \n",
       "4  5,5 Zimmer, 195 m², CHF 6900.—Parkring 59, 800...  "
      ]
     },
     "execution_count": 3,
     "metadata": {},
     "output_type": "execute_result"
    }
   ],
   "source": [
    "df.head()"
   ]
  },
  {
   "cell_type": "code",
   "execution_count": 4,
   "id": "1a18774a",
   "metadata": {},
   "outputs": [
    {
     "data": {
      "text/html": [
       "<div>\n",
       "<style scoped>\n",
       "    .dataframe tbody tr th:only-of-type {\n",
       "        vertical-align: middle;\n",
       "    }\n",
       "\n",
       "    .dataframe tbody tr th {\n",
       "        vertical-align: top;\n",
       "    }\n",
       "\n",
       "    .dataframe thead th {\n",
       "        text-align: right;\n",
       "    }\n",
       "</style>\n",
       "<table border=\"1\" class=\"dataframe\">\n",
       "  <thead>\n",
       "    <tr style=\"text-align: right;\">\n",
       "      <th></th>\n",
       "      <th>web-scraper-order</th>\n",
       "      <th>address_raw</th>\n",
       "      <th>lat</th>\n",
       "      <th>lon</th>\n",
       "      <th>bfs_number</th>\n",
       "      <th>bfs_name</th>\n",
       "    </tr>\n",
       "  </thead>\n",
       "  <tbody>\n",
       "    <tr>\n",
       "      <th>0</th>\n",
       "      <td>1662023695-433</td>\n",
       "      <td>Sunnenbergstrasse 15, 8633 Wolfhausen, ZH</td>\n",
       "      <td>47.255714</td>\n",
       "      <td>8.804976</td>\n",
       "      <td>112</td>\n",
       "      <td>Bubikon</td>\n",
       "    </tr>\n",
       "    <tr>\n",
       "      <th>1</th>\n",
       "      <td>1662023720-634</td>\n",
       "      <td>Blumenbergstrasse 7, 8633 Wolfhausen, ZH</td>\n",
       "      <td>47.254879</td>\n",
       "      <td>8.793746</td>\n",
       "      <td>112</td>\n",
       "      <td>Bubikon</td>\n",
       "    </tr>\n",
       "    <tr>\n",
       "      <th>2</th>\n",
       "      <td>1662023745-834</td>\n",
       "      <td>8608 Bubikon, ZH</td>\n",
       "      <td>47.277386</td>\n",
       "      <td>8.800306</td>\n",
       "      <td>112</td>\n",
       "      <td>Bubikon</td>\n",
       "    </tr>\n",
       "    <tr>\n",
       "      <th>3</th>\n",
       "      <td>1662023701-503</td>\n",
       "      <td>8608 Bubikon, ZH</td>\n",
       "      <td>47.277386</td>\n",
       "      <td>8.800306</td>\n",
       "      <td>112</td>\n",
       "      <td>Bubikon</td>\n",
       "    </tr>\n",
       "    <tr>\n",
       "      <th>4</th>\n",
       "      <td>1662023745-820</td>\n",
       "      <td>Lavaterstr. 63, 8002 Zürich, ZH</td>\n",
       "      <td>47.361378</td>\n",
       "      <td>8.533339</td>\n",
       "      <td>261</td>\n",
       "      <td>Zürich</td>\n",
       "    </tr>\n",
       "  </tbody>\n",
       "</table>\n",
       "</div>"
      ],
      "text/plain": [
       "  web-scraper-order                                address_raw        lat  \\\n",
       "0    1662023695-433  Sunnenbergstrasse 15, 8633 Wolfhausen, ZH  47.255714   \n",
       "1    1662023720-634   Blumenbergstrasse 7, 8633 Wolfhausen, ZH  47.254879   \n",
       "2    1662023745-834                           8608 Bubikon, ZH  47.277386   \n",
       "3    1662023701-503                           8608 Bubikon, ZH  47.277386   \n",
       "4    1662023745-820            Lavaterstr. 63, 8002 Zürich, ZH  47.361378   \n",
       "\n",
       "        lon  bfs_number bfs_name  \n",
       "0  8.804976         112  Bubikon  \n",
       "1  8.793746         112  Bubikon  \n",
       "2  8.800306         112  Bubikon  \n",
       "3  8.800306         112  Bubikon  \n",
       "4  8.533339         261   Zürich  "
      ]
     },
     "execution_count": 4,
     "metadata": {},
     "output_type": "execute_result"
    }
   ],
   "source": [
    "# Meaning of variables\n",
    "# lat: geographical latitude\n",
    "# lon: geographical longitude\n",
    "# bfs_number: official municipality id\n",
    "# bfs_name: official municipality name\n",
    "\n",
    "# Geocoded data (i.e. data with latitude and longitude)\n",
    "df_geo = pd.read_csv('apartments_data_geocoded.csv', \n",
    "                     sep=',', \n",
    "                     encoding='utf-8')\n",
    "df_geo.head(5)"
   ]
  },
  {
   "cell_type": "code",
   "execution_count": 5,
   "id": "a311961d",
   "metadata": {},
   "outputs": [
    {
     "data": {
      "text/html": [
       "<div>\n",
       "<style scoped>\n",
       "    .dataframe tbody tr th:only-of-type {\n",
       "        vertical-align: middle;\n",
       "    }\n",
       "\n",
       "    .dataframe tbody tr th {\n",
       "        vertical-align: top;\n",
       "    }\n",
       "\n",
       "    .dataframe thead th {\n",
       "        text-align: right;\n",
       "    }\n",
       "</style>\n",
       "<table border=\"1\" class=\"dataframe\">\n",
       "  <thead>\n",
       "    <tr style=\"text-align: right;\">\n",
       "      <th></th>\n",
       "      <th>web-scraper-order</th>\n",
       "      <th>web-scraper-start-url</th>\n",
       "      <th>rooms_area_price_raw</th>\n",
       "      <th>address_raw</th>\n",
       "      <th>price_raw</th>\n",
       "      <th>description_raw</th>\n",
       "      <th>text_raw</th>\n",
       "      <th>lat</th>\n",
       "      <th>lon</th>\n",
       "      <th>bfs_number</th>\n",
       "      <th>bfs_name</th>\n",
       "    </tr>\n",
       "  </thead>\n",
       "  <tbody>\n",
       "    <tr>\n",
       "      <th>0</th>\n",
       "      <td>1662023695-433</td>\n",
       "      <td>https://www.immoscout24.ch/de/wohnung/mieten/k...</td>\n",
       "      <td>3,5 Zimmer, 122 m², CHF 3180.—</td>\n",
       "      <td>Sunnenbergstrasse 15, 8633 Wolfhausen, ZH</td>\n",
       "      <td>CHF 3180.—</td>\n",
       "      <td>«Grosse Galerie, Terrasse mit Pergola, Berg- u...</td>\n",
       "      <td>3,5 Zimmer, 122 m², CHF 3180.—Sunnenbergstrass...</td>\n",
       "      <td>47.255714</td>\n",
       "      <td>8.804976</td>\n",
       "      <td>112</td>\n",
       "      <td>Bubikon</td>\n",
       "    </tr>\n",
       "    <tr>\n",
       "      <th>1</th>\n",
       "      <td>1662023745-820</td>\n",
       "      <td>https://www.immoscout24.ch/de/wohnung/mieten/k...</td>\n",
       "      <td>2,5 Zimmer, 78 m², CHF 3760.—</td>\n",
       "      <td>Lavaterstr. 63, 8002 Zürich, ZH</td>\n",
       "      <td>CHF 3760.—</td>\n",
       "      <td>«Wunderschöne Wohnung im Enge-Quartier»</td>\n",
       "      <td>2,5 Zimmer, 78 m², CHF 3760.—Lavaterstr. 63, 8...</td>\n",
       "      <td>47.361378</td>\n",
       "      <td>8.533339</td>\n",
       "      <td>261</td>\n",
       "      <td>Zürich</td>\n",
       "    </tr>\n",
       "    <tr>\n",
       "      <th>2</th>\n",
       "      <td>1662023742-807</td>\n",
       "      <td>https://www.immoscout24.ch/de/wohnung/mieten/k...</td>\n",
       "      <td>5,5 Zimmer, 115 m², CHF 2860.—</td>\n",
       "      <td>Langfurrenstrasse 5c, 8623 Wetzikon ZH, ZH</td>\n",
       "      <td>CHF 2860.—</td>\n",
       "      <td>«Wohnmomente zum Festhalten»</td>\n",
       "      <td>5,5 Zimmer, 115 m², CHF 2860.—Langfurrenstrass...</td>\n",
       "      <td>47.328632</td>\n",
       "      <td>8.810400</td>\n",
       "      <td>121</td>\n",
       "      <td>Wetzikon (ZH)</td>\n",
       "    </tr>\n",
       "    <tr>\n",
       "      <th>3</th>\n",
       "      <td>1662023804-1290</td>\n",
       "      <td>https://www.immoscout24.ch/de/wohnung/mieten/k...</td>\n",
       "      <td>3,5 Zimmer, 74 m², CHF 2165.—</td>\n",
       "      <td>Sandbuckweg 5A, 8157 Dielsdorf, ZH</td>\n",
       "      <td>CHF 2165.—</td>\n",
       "      <td>«3,5 pièces, 74 m²»</td>\n",
       "      <td>top3,5 Zimmer, 74 m², CHF 2165.—Sandbuckweg 5A...</td>\n",
       "      <td>47.477493</td>\n",
       "      <td>8.456285</td>\n",
       "      <td>86</td>\n",
       "      <td>Dielsdorf</td>\n",
       "    </tr>\n",
       "    <tr>\n",
       "      <th>4</th>\n",
       "      <td>1662023739-771</td>\n",
       "      <td>https://www.immoscout24.ch/de/wohnung/mieten/k...</td>\n",
       "      <td>5,5 Zimmer, 195 m², CHF 6900.—</td>\n",
       "      <td>Parkring 59, 8002 Zürich, ZH</td>\n",
       "      <td>CHF 6900.—</td>\n",
       "      <td>«Wohnanlage Im Parkring - Exklusive Wohnung zu...</td>\n",
       "      <td>5,5 Zimmer, 195 m², CHF 6900.—Parkring 59, 800...</td>\n",
       "      <td>47.366898</td>\n",
       "      <td>8.528817</td>\n",
       "      <td>261</td>\n",
       "      <td>Zürich</td>\n",
       "    </tr>\n",
       "  </tbody>\n",
       "</table>\n",
       "</div>"
      ],
      "text/plain": [
       "  web-scraper-order                              web-scraper-start-url  \\\n",
       "0    1662023695-433  https://www.immoscout24.ch/de/wohnung/mieten/k...   \n",
       "1    1662023745-820  https://www.immoscout24.ch/de/wohnung/mieten/k...   \n",
       "2    1662023742-807  https://www.immoscout24.ch/de/wohnung/mieten/k...   \n",
       "3   1662023804-1290  https://www.immoscout24.ch/de/wohnung/mieten/k...   \n",
       "4    1662023739-771  https://www.immoscout24.ch/de/wohnung/mieten/k...   \n",
       "\n",
       "             rooms_area_price_raw                                 address_raw  \\\n",
       "0  3,5 Zimmer, 122 m², CHF 3180.—   Sunnenbergstrasse 15, 8633 Wolfhausen, ZH   \n",
       "1   2,5 Zimmer, 78 m², CHF 3760.—             Lavaterstr. 63, 8002 Zürich, ZH   \n",
       "2  5,5 Zimmer, 115 m², CHF 2860.—  Langfurrenstrasse 5c, 8623 Wetzikon ZH, ZH   \n",
       "3   3,5 Zimmer, 74 m², CHF 2165.—          Sandbuckweg 5A, 8157 Dielsdorf, ZH   \n",
       "4  5,5 Zimmer, 195 m², CHF 6900.—                Parkring 59, 8002 Zürich, ZH   \n",
       "\n",
       "    price_raw                                    description_raw  \\\n",
       "0  CHF 3180.—  «Grosse Galerie, Terrasse mit Pergola, Berg- u...   \n",
       "1  CHF 3760.—            «Wunderschöne Wohnung im Enge-Quartier»   \n",
       "2  CHF 2860.—                       «Wohnmomente zum Festhalten»   \n",
       "3  CHF 2165.—                                «3,5 pièces, 74 m²»   \n",
       "4  CHF 6900.—  «Wohnanlage Im Parkring - Exklusive Wohnung zu...   \n",
       "\n",
       "                                            text_raw        lat       lon  \\\n",
       "0  3,5 Zimmer, 122 m², CHF 3180.—Sunnenbergstrass...  47.255714  8.804976   \n",
       "1  2,5 Zimmer, 78 m², CHF 3760.—Lavaterstr. 63, 8...  47.361378  8.533339   \n",
       "2  5,5 Zimmer, 115 m², CHF 2860.—Langfurrenstrass...  47.328632  8.810400   \n",
       "3  top3,5 Zimmer, 74 m², CHF 2165.—Sandbuckweg 5A...  47.477493  8.456285   \n",
       "4  5,5 Zimmer, 195 m², CHF 6900.—Parkring 59, 800...  47.366898  8.528817   \n",
       "\n",
       "   bfs_number       bfs_name  \n",
       "0         112        Bubikon  \n",
       "1         261         Zürich  \n",
       "2         121  Wetzikon (ZH)  \n",
       "3          86      Dielsdorf  \n",
       "4         261         Zürich  "
      ]
     },
     "execution_count": 5,
     "metadata": {},
     "output_type": "execute_result"
    }
   ],
   "source": [
    "df = df.merge(df_geo[['web-scraper-order', \n",
    "                       'lat', \n",
    "                       'lon', \n",
    "                       'bfs_number', \n",
    "                       'bfs_name']], \n",
    "               on=\"web-scraper-order\")\n",
    "df.head()"
   ]
  },
  {
   "cell_type": "code",
   "execution_count": 6,
   "id": "accd5f68",
   "metadata": {
    "scrolled": false
   },
   "outputs": [
    {
     "data": {
      "text/plain": [
       "Index(['web-scraper-order', 'web-scraper-start-url', 'rooms_area_price_raw',\n",
       "       'address_raw', 'price_raw', 'description_raw', 'text_raw', 'lat', 'lon',\n",
       "       'bfs_number', 'bfs_name'],\n",
       "      dtype='object')"
      ]
     },
     "execution_count": 6,
     "metadata": {},
     "output_type": "execute_result"
    }
   ],
   "source": [
    "df.columns"
   ]
  },
  {
   "cell_type": "markdown",
   "id": "7655f6f8",
   "metadata": {},
   "source": [
    "### Extract and save relevant information from raw data using regular expressions (regex)"
   ]
  },
  {
   "cell_type": "markdown",
   "id": "866af03d",
   "metadata": {},
   "source": [
    "#### Extract number of rooms"
   ]
  },
  {
   "cell_type": "code",
   "execution_count": 7,
   "id": "ee9474e8",
   "metadata": {},
   "outputs": [
    {
     "name": "stdout",
     "output_type": "stream",
     "text": [
      "0    3,5 Zimmer, 122 m², CHF 3180.—\n",
      "1     2,5 Zimmer, 78 m², CHF 3760.—\n",
      "2    5,5 Zimmer, 115 m², CHF 2860.—\n",
      "3     3,5 Zimmer, 74 m², CHF 2165.—\n",
      "4    5,5 Zimmer, 195 m², CHF 6900.—\n",
      "Name: rooms_area_price_raw, dtype: object \n",
      "\n",
      "0    3.5\n",
      "1    2.5\n",
      "2    5.5\n",
      "3    3.5\n",
      "4    5.5\n",
      "Name: rooms, dtype: float64 \n",
      "\n"
     ]
    }
   ],
   "source": [
    " # Extract values from 'rooms_area_price_raw' strings\n",
    "rooms = []\n",
    "for i in df['rooms_area_price_raw']:\n",
    "    d1 = re.findall('(.*)Zimmer', i)\n",
    "    try:\n",
    "        d2 = d1[0].strip().replace(',', '.')\n",
    "    except:\n",
    "        d2 = None\n",
    "    rooms.append(d2)\n",
    "\n",
    "# Save as new variable in the pandas data frame\n",
    "df['rooms'] = pd.Series(rooms, dtype=\"float64\")\n",
    "    \n",
    "# Print first 5 values\n",
    "print(df['rooms_area_price_raw'].head(5), '\\n')\n",
    "print(df['rooms'].head(5), '\\n')"
   ]
  },
  {
   "cell_type": "markdown",
   "id": "9b26f675",
   "metadata": {},
   "source": [
    "#### Extract living area"
   ]
  },
  {
   "cell_type": "code",
   "execution_count": 8,
   "id": "de65d762",
   "metadata": {},
   "outputs": [
    {
     "name": "stdout",
     "output_type": "stream",
     "text": [
      "0    3,5 Zimmer, 122 m², CHF 3180.—\n",
      "1     2,5 Zimmer, 78 m², CHF 3760.—\n",
      "2    5,5 Zimmer, 115 m², CHF 2860.—\n",
      "3     3,5 Zimmer, 74 m², CHF 2165.—\n",
      "4    5,5 Zimmer, 195 m², CHF 6900.—\n",
      "Name: rooms_area_price_raw, dtype: object \n",
      "\n",
      "0    122\n",
      "1     78\n",
      "2    115\n",
      "3     74\n",
      "4    195\n",
      "Name: area, dtype: Int64 \n",
      "\n"
     ]
    }
   ],
   "source": [
    "# Extract values from 'rooms_area_price_raw' strings\n",
    "area = []\n",
    "for i in df['rooms_area_price_raw']:\n",
    "    d1 = re.findall('Zimmer, (.*)m²', i)\n",
    "    try:\n",
    "        d2 = d1[0].strip()\n",
    "    except:\n",
    "        d2 = None\n",
    "    area.append(d2)\n",
    "\n",
    "# Save as new variable in the pandas data frame\n",
    "df['area'] = pd.Series(area, dtype=\"Int64\")\n",
    "\n",
    "# Print first 5 values\n",
    "print(df['rooms_area_price_raw'].head(5), '\\n')\n",
    "print(df['area'].head(5), '\\n')"
   ]
  },
  {
   "cell_type": "markdown",
   "id": "ba21b07e",
   "metadata": {},
   "source": [
    "#### Extract rental price"
   ]
  },
  {
   "cell_type": "code",
   "execution_count": 9,
   "id": "3b0bbf00",
   "metadata": {},
   "outputs": [
    {
     "name": "stdout",
     "output_type": "stream",
     "text": [
      "0    CHF 3180.—\n",
      "1    CHF 3760.—\n",
      "2    CHF 2860.—\n",
      "3    CHF 2165.—\n",
      "4    CHF 6900.—\n",
      "Name: price_raw, dtype: object \n",
      "\n",
      "0    3180\n",
      "1    3760\n",
      "2    2860\n",
      "3    2165\n",
      "4    6900\n",
      "Name: price, dtype: Int64\n"
     ]
    }
   ],
   "source": [
    "# Extract values from 'price_raw' strings\n",
    "price = []\n",
    "for i in df['price_raw']:\n",
    "    d1 = re.findall('[0-9]+', i)\n",
    "    try:\n",
    "        d2 = d1[0].strip()\n",
    "    except:\n",
    "        d2 = None\n",
    "    price.append(d2)\n",
    "\n",
    "# Save as new variable in the pandas data frame\n",
    "df['price'] = pd.Series(price, dtype=\"Int64\")\n",
    "\n",
    "# Print first 5 values\n",
    "print(df['price_raw'].head(), '\\n')\n",
    "print(df['price'].head())"
   ]
  },
  {
   "cell_type": "markdown",
   "id": "0a9cd5fc",
   "metadata": {},
   "source": [
    "#### Extract postalcode, address, town"
   ]
  },
  {
   "cell_type": "code",
   "execution_count": 10,
   "id": "61cd622d",
   "metadata": {},
   "outputs": [],
   "source": [
    "# Extract values from 'address_raw' strings\n",
    "postalcode = []\n",
    "address = []\n",
    "towns = []\n",
    "\n",
    "for i in df['address_raw']:\n",
    "    i = i.replace(', ZH', '').replace(',ZH', '').replace(',', '')\n",
    "    d1 = re.findall('\\d\\d\\d\\d', i)\n",
    "    #print(d1)\n",
    "    try:\n",
    "        d2 = d1[0].strip()\n",
    "        address_with_housenumber = i[:i.index(d2)].strip()\n",
    "        town = i[i.index(d2)+4:].strip()\n",
    "        \n",
    "        \n",
    "    except:\n",
    "        d2 = None\n",
    "    \n",
    "    postalcode.append(d2)\n",
    "    address.append(address_with_housenumber)\n",
    "    towns.append(town)\n",
    "\n",
    "# Save as new variable in the pandas data frame\n",
    "df['postalcode'] = pd.Series(postalcode, dtype=\"Int64\")\n",
    "df['address'] = pd.Series(address, dtype=\"string\")\n",
    "df['town'] = pd.Series(towns, dtype=\"string\")"
   ]
  },
  {
   "cell_type": "markdown",
   "id": "83134156",
   "metadata": {},
   "source": [
    "#### Extract number of rooms"
   ]
  },
  {
   "cell_type": "code",
   "execution_count": 11,
   "id": "9199dd92",
   "metadata": {},
   "outputs": [
    {
     "name": "stdout",
     "output_type": "stream",
     "text": [
      "0    3,5 Zimmer, 122 m², CHF 3180.—\n",
      "1     2,5 Zimmer, 78 m², CHF 3760.—\n",
      "2    5,5 Zimmer, 115 m², CHF 2860.—\n",
      "3     3,5 Zimmer, 74 m², CHF 2165.—\n",
      "4    5,5 Zimmer, 195 m², CHF 6900.—\n",
      "Name: rooms_area_price_raw, dtype: object \n",
      "\n",
      "0    3.5\n",
      "1    2.5\n",
      "2    5.5\n",
      "3    3.5\n",
      "4    5.5\n",
      "Name: rooms, dtype: float64 \n",
      "\n"
     ]
    }
   ],
   "source": [
    " # Extract values from 'rooms_area_price_raw' strings\n",
    "rooms = []\n",
    "for i in df['rooms_area_price_raw']:\n",
    "    d1 = re.findall('(.*)Zimmer', i)\n",
    "    try:\n",
    "        d2 = d1[0].strip().replace(',', '.')\n",
    "    except:\n",
    "        d2 = None\n",
    "    rooms.append(d2)\n",
    "\n",
    "# Save as new variable in the pandas data frame\n",
    "df['rooms'] = pd.Series(rooms, dtype=\"float64\")\n",
    "    \n",
    "# Print first 5 values\n",
    "print(df['rooms_area_price_raw'].head(5), '\\n')\n",
    "print(df['rooms'].head(5), '\\n')"
   ]
  },
  {
   "cell_type": "markdown",
   "id": "4ecbcf2e",
   "metadata": {},
   "source": [
    "#### Extract living area"
   ]
  },
  {
   "cell_type": "code",
   "execution_count": 12,
   "id": "3993f4db",
   "metadata": {},
   "outputs": [
    {
     "name": "stdout",
     "output_type": "stream",
     "text": [
      "0    3,5 Zimmer, 122 m², CHF 3180.—\n",
      "1     2,5 Zimmer, 78 m², CHF 3760.—\n",
      "2    5,5 Zimmer, 115 m², CHF 2860.—\n",
      "3     3,5 Zimmer, 74 m², CHF 2165.—\n",
      "4    5,5 Zimmer, 195 m², CHF 6900.—\n",
      "Name: rooms_area_price_raw, dtype: object \n",
      "\n",
      "0    122\n",
      "1     78\n",
      "2    115\n",
      "3     74\n",
      "4    195\n",
      "Name: area, dtype: Int64 \n",
      "\n"
     ]
    }
   ],
   "source": [
    "# Extract values from 'rooms_area_price_raw' strings\n",
    "area = []\n",
    "for i in df['rooms_area_price_raw']:\n",
    "    d1 = re.findall('Zimmer, (.*)m²', i)\n",
    "    try:\n",
    "        d2 = d1[0].strip()\n",
    "    except:\n",
    "        d2 = None\n",
    "    area.append(d2)\n",
    "\n",
    "# Save as new variable in the pandas data frame\n",
    "df['area'] = pd.Series(area, dtype=\"Int64\")\n",
    "\n",
    "# Print first 5 values\n",
    "print(df['rooms_area_price_raw'].head(5), '\\n')\n",
    "print(df['area'].head(5), '\\n')"
   ]
  },
  {
   "cell_type": "markdown",
   "id": "bc19bb7b",
   "metadata": {},
   "source": [
    "#### Extract rental price"
   ]
  },
  {
   "cell_type": "code",
   "execution_count": 13,
   "id": "bca7491d",
   "metadata": {},
   "outputs": [
    {
     "name": "stdout",
     "output_type": "stream",
     "text": [
      "0    CHF 3180.—\n",
      "1    CHF 3760.—\n",
      "2    CHF 2860.—\n",
      "3    CHF 2165.—\n",
      "4    CHF 6900.—\n",
      "Name: price_raw, dtype: object \n",
      "\n",
      "0    3180\n",
      "1    3760\n",
      "2    2860\n",
      "3    2165\n",
      "4    6900\n",
      "Name: price, dtype: Int64\n"
     ]
    }
   ],
   "source": [
    "# Extract values from 'price_raw' strings\n",
    "price = []\n",
    "for i in df['price_raw']:\n",
    "    d1 = re.findall('[0-9]+', i)\n",
    "    try:\n",
    "        d2 = d1[0].strip()\n",
    "    except:\n",
    "        d2 = None\n",
    "    price.append(d2)\n",
    "\n",
    "# Save as new variable in the pandas data frame\n",
    "df['price'] = pd.Series(price, dtype=\"Int64\")\n",
    "\n",
    "# Print first 5 values\n",
    "print(df['price_raw'].head(), '\\n')\n",
    "print(df['price'].head())"
   ]
  },
  {
   "cell_type": "markdown",
   "id": "559c87f1",
   "metadata": {},
   "source": [
    "#### Extract postalcode, address, town"
   ]
  },
  {
   "cell_type": "code",
   "execution_count": 14,
   "id": "7e67e316",
   "metadata": {},
   "outputs": [],
   "source": [
    "# Extract values from 'address_raw' strings\n",
    "postalcode = []\n",
    "address = []\n",
    "towns = []\n",
    "\n",
    "for i in df['address_raw']:\n",
    "    i = i.replace(', ZH', '').replace(',ZH', '').replace(',', '')\n",
    "    d1 = re.findall('\\d\\d\\d\\d', i)\n",
    "    #print(d1)\n",
    "    try:\n",
    "        d2 = d1[0].strip()\n",
    "        address_with_housenumber = i[:i.index(d2)].strip()\n",
    "        town = i[i.index(d2)+4:].strip()\n",
    "        \n",
    "        \n",
    "    except:\n",
    "        d2 = None\n",
    "    \n",
    "    postalcode.append(d2)\n",
    "    address.append(address_with_housenumber)\n",
    "    towns.append(town)\n",
    "\n",
    "# Save as new variable in the pandas data frame\n",
    "df['postalcode'] = pd.Series(postalcode, dtype=\"Int64\")\n",
    "df['address'] = pd.Series(address, dtype=\"string\")\n",
    "df['town'] = pd.Series(towns, dtype=\"string\")"
   ]
  },
  {
   "cell_type": "code",
   "execution_count": 15,
   "id": "e9821e99",
   "metadata": {
    "scrolled": true
   },
   "outputs": [
    {
     "data": {
      "text/plain": [
       "Index(['web-scraper-order', 'web-scraper-start-url', 'rooms_area_price_raw',\n",
       "       'address_raw', 'price_raw', 'description_raw', 'text_raw', 'lat', 'lon',\n",
       "       'bfs_number', 'bfs_name', 'rooms', 'area', 'price', 'postalcode',\n",
       "       'address', 'town'],\n",
       "      dtype='object')"
      ]
     },
     "execution_count": 15,
     "metadata": {},
     "output_type": "execute_result"
    }
   ],
   "source": [
    "df.columns"
   ]
  },
  {
   "cell_type": "code",
   "execution_count": 16,
   "id": "81182187",
   "metadata": {},
   "outputs": [],
   "source": [
    "df[['bfs_number', 'rooms', 'area', 'price', 'postalcode',\n",
    "       'address', 'town', 'description_raw']].to_csv('apartments_data_zurich_with_bfs.csv', \n",
    "          sep=\",\", \n",
    "          encoding='utf-8',\n",
    "          index=False)"
   ]
  },
  {
   "cell_type": "code",
   "execution_count": 17,
   "id": "3065b06c",
   "metadata": {},
   "outputs": [
    {
     "data": {
      "text/html": [
       "<div>\n",
       "<style scoped>\n",
       "    .dataframe tbody tr th:only-of-type {\n",
       "        vertical-align: middle;\n",
       "    }\n",
       "\n",
       "    .dataframe tbody tr th {\n",
       "        vertical-align: top;\n",
       "    }\n",
       "\n",
       "    .dataframe thead th {\n",
       "        text-align: right;\n",
       "    }\n",
       "</style>\n",
       "<table border=\"1\" class=\"dataframe\">\n",
       "  <thead>\n",
       "    <tr style=\"text-align: right;\">\n",
       "      <th></th>\n",
       "      <th>bfs_number</th>\n",
       "      <th>rooms</th>\n",
       "      <th>area</th>\n",
       "      <th>price</th>\n",
       "      <th>postalcode</th>\n",
       "      <th>address</th>\n",
       "      <th>town</th>\n",
       "      <th>description_raw</th>\n",
       "    </tr>\n",
       "  </thead>\n",
       "  <tbody>\n",
       "    <tr>\n",
       "      <th>0</th>\n",
       "      <td>112</td>\n",
       "      <td>3.5</td>\n",
       "      <td>122</td>\n",
       "      <td>3180</td>\n",
       "      <td>8633</td>\n",
       "      <td>Sunnenbergstrasse 15</td>\n",
       "      <td>Wolfhausen</td>\n",
       "      <td>«Grosse Galerie, Terrasse mit Pergola, Berg- u...</td>\n",
       "    </tr>\n",
       "    <tr>\n",
       "      <th>1</th>\n",
       "      <td>261</td>\n",
       "      <td>2.5</td>\n",
       "      <td>78</td>\n",
       "      <td>3760</td>\n",
       "      <td>8002</td>\n",
       "      <td>Lavaterstr. 63</td>\n",
       "      <td>Zürich</td>\n",
       "      <td>«Wunderschöne Wohnung im Enge-Quartier»</td>\n",
       "    </tr>\n",
       "    <tr>\n",
       "      <th>2</th>\n",
       "      <td>121</td>\n",
       "      <td>5.5</td>\n",
       "      <td>115</td>\n",
       "      <td>2860</td>\n",
       "      <td>8623</td>\n",
       "      <td>Langfurrenstrasse 5c</td>\n",
       "      <td>Wetzikon ZH</td>\n",
       "      <td>«Wohnmomente zum Festhalten»</td>\n",
       "    </tr>\n",
       "    <tr>\n",
       "      <th>3</th>\n",
       "      <td>86</td>\n",
       "      <td>3.5</td>\n",
       "      <td>74</td>\n",
       "      <td>2165</td>\n",
       "      <td>8157</td>\n",
       "      <td>Sandbuckweg 5A</td>\n",
       "      <td>Dielsdorf</td>\n",
       "      <td>«3,5 pièces, 74 m²»</td>\n",
       "    </tr>\n",
       "    <tr>\n",
       "      <th>4</th>\n",
       "      <td>261</td>\n",
       "      <td>5.5</td>\n",
       "      <td>195</td>\n",
       "      <td>6900</td>\n",
       "      <td>8002</td>\n",
       "      <td>Parkring 59</td>\n",
       "      <td>Zürich</td>\n",
       "      <td>«Wohnanlage Im Parkring - Exklusive Wohnung zu...</td>\n",
       "    </tr>\n",
       "  </tbody>\n",
       "</table>\n",
       "</div>"
      ],
      "text/plain": [
       "   bfs_number  rooms  area  price  postalcode               address  \\\n",
       "0         112    3.5   122   3180        8633  Sunnenbergstrasse 15   \n",
       "1         261    2.5    78   3760        8002        Lavaterstr. 63   \n",
       "2         121    5.5   115   2860        8623  Langfurrenstrasse 5c   \n",
       "3          86    3.5    74   2165        8157        Sandbuckweg 5A   \n",
       "4         261    5.5   195   6900        8002           Parkring 59   \n",
       "\n",
       "          town                                    description_raw  \n",
       "0   Wolfhausen  «Grosse Galerie, Terrasse mit Pergola, Berg- u...  \n",
       "1       Zürich            «Wunderschöne Wohnung im Enge-Quartier»  \n",
       "2  Wetzikon ZH                       «Wohnmomente zum Festhalten»  \n",
       "3    Dielsdorf                                «3,5 pièces, 74 m²»  \n",
       "4       Zürich  «Wohnanlage Im Parkring - Exklusive Wohnung zu...  "
      ]
     },
     "execution_count": 17,
     "metadata": {},
     "output_type": "execute_result"
    }
   ],
   "source": [
    "df[['bfs_number', 'rooms', 'area', 'price', 'postalcode',\n",
    "       'address', 'town', 'description_raw']].head(5)"
   ]
  }
 ],
 "metadata": {
  "kernelspec": {
   "display_name": "base",
   "language": "python",
   "name": "python3"
  },
  "language_info": {
   "codemirror_mode": {
    "name": "ipython",
    "version": 3
   },
   "file_extension": ".py",
   "mimetype": "text/x-python",
   "name": "python",
   "nbconvert_exporter": "python",
   "pygments_lexer": "ipython3",
   "version": "3.9.13"
  }
 },
 "nbformat": 4,
 "nbformat_minor": 5
}
