{
 "cells": [
  {
   "cell_type": "markdown",
   "id": "04772118",
   "metadata": {},
   "source": [
    "# Data Preparation KI-Anwendung\n",
    "\n",
    "The goal of this notebook is to prepare the housing data from KI-Anwendung to look the same as the prepared data from data analitics.\n",
    "\n",
    "The goal is to have the following columns: \n",
    "Index(['bfs_number', 'bfs_name', 'lat', 'lon', 'rooms', 'area', 'price', 'postalcode',\n",
    "       'address', 'town'],\n",
    "      dtype='object')"
   ]
  },
  {
   "cell_type": "code",
   "execution_count": 31,
   "id": "b3ddab6f",
   "metadata": {},
   "outputs": [],
   "source": [
    "# Libraries\n",
    "import pandas as pd\n",
    "\n",
    "# Ignore warnings\n",
    "import warnings\n",
    "warnings.filterwarnings(\"ignore\")"
   ]
  },
  {
   "cell_type": "code",
   "execution_count": 32,
   "id": "8c1551ba",
   "metadata": {},
   "outputs": [
    {
     "data": {
      "text/plain": [
       "(1008, 7)"
      ]
     },
     "execution_count": 32,
     "metadata": {},
     "output_type": "execute_result"
    }
   ],
   "source": [
    "# Read the data to a pandas data frame\n",
    "df = pd.read_csv('apartments_data_zurich_30.12.2023.csv', sep=',', encoding='utf-8')\n",
    "\n",
    "# Get number of rows and columns\n",
    "df.shape"
   ]
  },
  {
   "cell_type": "code",
   "execution_count": 33,
   "id": "15d1731e",
   "metadata": {},
   "outputs": [
    {
     "data": {
      "text/html": [
       "<div>\n",
       "<style scoped>\n",
       "    .dataframe tbody tr th:only-of-type {\n",
       "        vertical-align: middle;\n",
       "    }\n",
       "\n",
       "    .dataframe tbody tr th {\n",
       "        vertical-align: top;\n",
       "    }\n",
       "\n",
       "    .dataframe thead th {\n",
       "        text-align: right;\n",
       "    }\n",
       "</style>\n",
       "<table border=\"1\" class=\"dataframe\">\n",
       "  <thead>\n",
       "    <tr style=\"text-align: right;\">\n",
       "      <th></th>\n",
       "      <th>web-scraper-order</th>\n",
       "      <th>web-scraper-start-url</th>\n",
       "      <th>rooms_area_price_raw</th>\n",
       "      <th>address_raw</th>\n",
       "      <th>price_raw</th>\n",
       "      <th>description_raw</th>\n",
       "      <th>text_raw</th>\n",
       "    </tr>\n",
       "  </thead>\n",
       "  <tbody>\n",
       "    <tr>\n",
       "      <th>0</th>\n",
       "      <td>1703955431-1</td>\n",
       "      <td>https://www.immoscout24.ch/de/wohnung/mieten/k...</td>\n",
       "      <td>4,5 Zimmer, 148 m², CHF 4180.—</td>\n",
       "      <td>Schaffhauserstrasse 363, 8050 Zürich, ZH</td>\n",
       "      <td>CHF 4180.—</td>\n",
       "      <td>««Renovierte 4.5-Zimmerwohnung an zentraler La...</td>\n",
       "      <td>4,5 Zimmer, 148 m², CHF 4180.—Schaffhauserstra...</td>\n",
       "    </tr>\n",
       "    <tr>\n",
       "      <th>1</th>\n",
       "      <td>1703955431-2</td>\n",
       "      <td>https://www.immoscout24.ch/de/wohnung/mieten/k...</td>\n",
       "      <td>1,5 Zimmer, 35 m², CHF 1620.—</td>\n",
       "      <td>Bernerstrasse Süd 167, 8048 Zürich, ZH</td>\n",
       "      <td>CHF 1620.—</td>\n",
       "      <td>«City Pop - Furnished Apartment in Zurich-Alts...</td>\n",
       "      <td>1,5 Zimmer, 35 m², CHF 1620.—Bernerstrasse Süd...</td>\n",
       "    </tr>\n",
       "    <tr>\n",
       "      <th>2</th>\n",
       "      <td>1703955431-3</td>\n",
       "      <td>https://www.immoscout24.ch/de/wohnung/mieten/k...</td>\n",
       "      <td>15 m², CHF 2167.—</td>\n",
       "      <td>Militärstrasse 24, 8004 Zürich, ZH</td>\n",
       "      <td>CHF 2167.—</td>\n",
       "      <td>«Studio Apartment Mini»</td>\n",
       "      <td>15 m², CHF 2167.—Militärstrasse 24, 8004 Züric...</td>\n",
       "    </tr>\n",
       "    <tr>\n",
       "      <th>3</th>\n",
       "      <td>1703955431-4</td>\n",
       "      <td>https://www.immoscout24.ch/de/wohnung/mieten/k...</td>\n",
       "      <td>4,5 Zimmer, 110 m², CHF 4500.—</td>\n",
       "      <td>8600 Dübendorf, ZH</td>\n",
       "      <td>CHF 4500.—</td>\n",
       "      <td>«Grosszügige 4.5-Zimmer-Maisonette-Wohnung in ...</td>\n",
       "      <td>4,5 Zimmer, 110 m², CHF 4500.—8600 Dübendorf, ...</td>\n",
       "    </tr>\n",
       "    <tr>\n",
       "      <th>4</th>\n",
       "      <td>1703955431-5</td>\n",
       "      <td>https://www.immoscout24.ch/de/wohnung/mieten/k...</td>\n",
       "      <td>2,5 Zimmer, 50 m², CHF 1650.—</td>\n",
       "      <td>Rütistrasse 16, 8118 Pfaffhausen, ZH</td>\n",
       "      <td>CHF 1650.—</td>\n",
       "      <td>«Wohnung in Pfaffhausen»</td>\n",
       "      <td>2,5 Zimmer, 50 m², CHF 1650.—Rütistrasse 16, 8...</td>\n",
       "    </tr>\n",
       "  </tbody>\n",
       "</table>\n",
       "</div>"
      ],
      "text/plain": [
       "  web-scraper-order                              web-scraper-start-url  \\\n",
       "0      1703955431-1  https://www.immoscout24.ch/de/wohnung/mieten/k...   \n",
       "1      1703955431-2  https://www.immoscout24.ch/de/wohnung/mieten/k...   \n",
       "2      1703955431-3  https://www.immoscout24.ch/de/wohnung/mieten/k...   \n",
       "3      1703955431-4  https://www.immoscout24.ch/de/wohnung/mieten/k...   \n",
       "4      1703955431-5  https://www.immoscout24.ch/de/wohnung/mieten/k...   \n",
       "\n",
       "             rooms_area_price_raw                               address_raw  \\\n",
       "0  4,5 Zimmer, 148 m², CHF 4180.—  Schaffhauserstrasse 363, 8050 Zürich, ZH   \n",
       "1   1,5 Zimmer, 35 m², CHF 1620.—    Bernerstrasse Süd 167, 8048 Zürich, ZH   \n",
       "2               15 m², CHF 2167.—        Militärstrasse 24, 8004 Zürich, ZH   \n",
       "3  4,5 Zimmer, 110 m², CHF 4500.—                        8600 Dübendorf, ZH   \n",
       "4   2,5 Zimmer, 50 m², CHF 1650.—      Rütistrasse 16, 8118 Pfaffhausen, ZH   \n",
       "\n",
       "    price_raw                                    description_raw  \\\n",
       "0  CHF 4180.—  ««Renovierte 4.5-Zimmerwohnung an zentraler La...   \n",
       "1  CHF 1620.—  «City Pop - Furnished Apartment in Zurich-Alts...   \n",
       "2  CHF 2167.—                            «Studio Apartment Mini»   \n",
       "3  CHF 4500.—  «Grosszügige 4.5-Zimmer-Maisonette-Wohnung in ...   \n",
       "4  CHF 1650.—                           «Wohnung in Pfaffhausen»   \n",
       "\n",
       "                                            text_raw  \n",
       "0  4,5 Zimmer, 148 m², CHF 4180.—Schaffhauserstra...  \n",
       "1  1,5 Zimmer, 35 m², CHF 1620.—Bernerstrasse Süd...  \n",
       "2  15 m², CHF 2167.—Militärstrasse 24, 8004 Züric...  \n",
       "3  4,5 Zimmer, 110 m², CHF 4500.—8600 Dübendorf, ...  \n",
       "4  2,5 Zimmer, 50 m², CHF 1650.—Rütistrasse 16, 8...  "
      ]
     },
     "execution_count": 33,
     "metadata": {},
     "output_type": "execute_result"
    }
   ],
   "source": [
    "df.head()"
   ]
  },
  {
   "cell_type": "code",
   "execution_count": 34,
   "id": "d9846b35",
   "metadata": {},
   "outputs": [],
   "source": [
    "df['address_raw_origin'] = df['address_raw']\n",
    "df['address_raw'] = df['address_raw'].str.replace(', ZH', '')\n",
    "df['town'] = df['address_raw'].str.extract(r'(?<=\\d\\d\\d\\d)(.+)')\n",
    "df['zip'] = df['address_raw'].str.extract(r'(\\d\\d\\d\\d)')\n",
    "df['rooms'] = df['rooms_area_price_raw'].str.extract(r'(.+)(?=Zimmer)')\n",
    "df['rooms'] = df['rooms'].str.replace(',', '.').str.strip()\n",
    "df['size'] = df['rooms_area_price_raw'].str.extract(r'(?<=,)?(\\d+)(?=\\s*m²)')\n",
    "df['price'] = df['rooms_area_price_raw'].str.extract(r'(?<=,)?(\\d+)(?=\\s*\\.)')\n",
    "df['address'] = df['address_raw']\n"
   ]
  },
  {
   "cell_type": "code",
   "execution_count": 35,
   "id": "fd9fb18a",
   "metadata": {},
   "outputs": [],
   "source": [
    "df = df.drop(df[df['rooms'] == 'undefined'].index)\n",
    "df = df.drop(df[df['zip'] == 'undefined'].index)\n",
    "df = df.drop(df[df['size'] == 'undefined'].index)\n",
    "df = df.drop(df[df['price'] == 'undefined'].index)\n",
    "df = df.drop(df[df['zip'] == 'undefined'].index)\n",
    "\n",
    "df = df.dropna()"
   ]
  },
  {
   "cell_type": "code",
   "execution_count": 36,
   "id": "25dfa7f5",
   "metadata": {},
   "outputs": [],
   "source": [
    "#df['bfs_number'] = df['munbfs']\n",
    "df['rooms'] = df['rooms'].astype(float)\n",
    "df['area'] = df['size'].astype(int)\n",
    "df['price'] = df['price'].astype(int)\n",
    "df['postalcode'] = df['zip'].astype(int)"
   ]
  },
  {
   "cell_type": "code",
   "execution_count": 37,
   "id": "a73e73fb",
   "metadata": {},
   "outputs": [
    {
     "data": {
      "text/plain": [
       "(886, 16)"
      ]
     },
     "execution_count": 37,
     "metadata": {},
     "output_type": "execute_result"
    }
   ],
   "source": [
    "df.shape"
   ]
  },
  {
   "cell_type": "code",
   "execution_count": 38,
   "id": "f2766f0b",
   "metadata": {},
   "outputs": [
    {
     "data": {
      "text/plain": [
       "(855, 18)"
      ]
     },
     "execution_count": 38,
     "metadata": {},
     "output_type": "execute_result"
    }
   ],
   "source": [
    "df_bfs_number_postalcode = pd.read_csv('bfs_number_postalcode.csv')\n",
    "df = df.merge(df_bfs_number_postalcode, on='postalcode')\n",
    "df.shape"
   ]
  },
  {
   "cell_type": "code",
   "execution_count": 39,
   "id": "05f22c30",
   "metadata": {
    "scrolled": true
   },
   "outputs": [
    {
     "data": {
      "text/plain": [
       "Index(['web-scraper-order', 'web-scraper-start-url', 'rooms_area_price_raw',\n",
       "       'address_raw', 'price_raw', 'description_raw', 'text_raw',\n",
       "       'address_raw_origin', 'town', 'zip', 'rooms', 'size', 'price',\n",
       "       'address', 'area', 'postalcode', 'Unnamed: 0', 'bfs_number'],\n",
       "      dtype='object')"
      ]
     },
     "execution_count": 39,
     "metadata": {},
     "output_type": "execute_result"
    }
   ],
   "source": [
    "df.columns"
   ]
  },
  {
   "cell_type": "code",
   "execution_count": 40,
   "id": "69dffe1d",
   "metadata": {},
   "outputs": [],
   "source": [
    "df[['bfs_number', 'rooms', 'area', 'price', 'postalcode',\n",
    "       'address', 'town', 'description_raw']].to_csv('apartments_data_zurich_30.12.2023_with_bfs.csv', \n",
    "          sep=\",\", \n",
    "          encoding='utf-8',\n",
    "          index=False)"
   ]
  }
 ],
 "metadata": {
  "kernelspec": {
   "display_name": "venv_new",
   "language": "python",
   "name": "python3"
  },
  "language_info": {
   "codemirror_mode": {
    "name": "ipython",
    "version": 3
   },
   "file_extension": ".py",
   "mimetype": "text/x-python",
   "name": "python",
   "nbconvert_exporter": "python",
   "pygments_lexer": "ipython3",
   "version": "3.9.6"
  }
 },
 "nbformat": 4,
 "nbformat_minor": 5
}
